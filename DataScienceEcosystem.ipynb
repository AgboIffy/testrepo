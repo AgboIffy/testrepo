{
 "cells": [
  {
   "cell_type": "markdown",
   "id": "6a8e89eb-7ba7-4dbc-bc1e-beaebf533ff1",
   "metadata": {},
   "source": [
    "Data Science Tools and Ecosystem"
   ]
  },
  {
   "cell_type": "markdown",
   "id": "423bce0c-82eb-43ae-ab98-37e8fbf14593",
   "metadata": {},
   "source": [
    "# Data Science Tools and Ecosystem"
   ]
  },
  {
   "cell_type": "markdown",
   "id": "a988b5f7-f071-4f90-9611-efa83de1389d",
   "metadata": {},
   "source": [
    "In this note book, Data science tools and ecosystem are summarised"
   ]
  },
  {
   "cell_type": "markdown",
   "id": "5512e3fd-4600-4b10-bb11-211f0e40eb07",
   "metadata": {},
   "source": [
    "Some of the popular languages that data scientists use are:\n",
    "1. Python\n",
    "2. R\n",
    "3. Julia"
   ]
  },
  {
   "cell_type": "markdown",
   "id": "33606307-4c04-425b-9108-22abd5108cce",
   "metadata": {},
   "source": [
    "Some of the commonly used libraries by data scientists include:\n",
    "1. Pandas\n",
    "2. NumPy\n",
    "3. Pytorch\n",
    "4. TensorFlow"
   ]
  },
  {
   "cell_type": "markdown",
   "id": "09691d6d-8b0e-4481-895a-91900e4f7fce",
   "metadata": {},
   "source": [
    "|Data Science Tools|\n",
    "|------------------|\n",
    "|MySQL|\n",
    "|PostgreSQL|\n",
    "|NodeRED|\n",
    "|Kubernetes|\n",
    "|Git|"
   ]
  },
  {
   "cell_type": "markdown",
   "id": "a3d7edde-211d-4cb1-b9b5-b27a57b26591",
   "metadata": {},
   "source": [
    "### Below are a few examples of eveluating arithmetic expressions in Python"
   ]
  },
  {
   "cell_type": "markdown",
   "id": "34bcf77b-7b98-4f3e-9d37-7ff915a0d108",
   "metadata": {},
   "source": [
    "#This is a simple arithmetic expression to multiply then add integers\n"
   ]
  },
  {
   "cell_type": "code",
   "execution_count": 1,
   "id": "7aff2275-fee4-4c00-846d-8e696c3b6d2c",
   "metadata": {},
   "outputs": [
    {
     "data": {
      "text/plain": [
       "17"
      ]
     },
     "execution_count": 1,
     "metadata": {},
     "output_type": "execute_result"
    }
   ],
   "source": [
    "(3*4)+5"
   ]
  },
  {
   "cell_type": "code",
   "execution_count": 2,
   "id": "a7fe79db-080a-43e3-8719-08bf1769a734",
   "metadata": {},
   "outputs": [
    {
     "data": {
      "text/plain": [
       "3.3333333333333335"
      ]
     },
     "execution_count": 2,
     "metadata": {},
     "output_type": "execute_result"
    }
   ],
   "source": [
    "#This will convert 200minutes to hours by dividing by 60\n",
    "200/60"
   ]
  },
  {
   "cell_type": "markdown",
   "id": "108f40f3-4fb5-4bac-be89-c7537cb11005",
   "metadata": {},
   "source": [
    "# Objectives\n",
    "* List popular objectives for data science\n",
    "* Overview of code and markdown cells\n",
    "* Dataset licenses\n",
    "* Libraries for data science\n",
    "* Jupyter kernels, Jupyter architecture, Cloud-based jupyter environments"
   ]
  },
  {
   "cell_type": "markdown",
   "id": "4a563072-c99f-4c3f-a8cd-ae4f8410660e",
   "metadata": {},
   "source": [
    "## Authour\n",
    "Loveth Agbo"
   ]
  },
  {
   "cell_type": "code",
   "execution_count": null,
   "id": "1c770597-2d0a-4c6d-800c-e17f94463d28",
   "metadata": {},
   "outputs": [],
   "source": []
  }
 ],
 "metadata": {
  "kernelspec": {
   "display_name": "Python 3 (ipykernel)",
   "language": "python",
   "name": "python3"
  },
  "language_info": {
   "codemirror_mode": {
    "name": "ipython",
    "version": 3
   },
   "file_extension": ".py",
   "mimetype": "text/x-python",
   "name": "python",
   "nbconvert_exporter": "python",
   "pygments_lexer": "ipython3",
   "version": "3.11.7"
  }
 },
 "nbformat": 4,
 "nbformat_minor": 5
}
