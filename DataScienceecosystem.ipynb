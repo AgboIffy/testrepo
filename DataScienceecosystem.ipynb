{
 "cells": [
  {
   "cell_type": "markdown",
   "id": "2468e0b3-af9f-4236-a180-ed2363671d96",
   "metadata": {},
   "source": [
    "# Data Science Tools and Ecosystems"
   ]
  },
  {
   "cell_type": "markdown",
   "id": "db6bbea2-2008-43e1-b03f-33335599504a",
   "metadata": {},
   "source": [
    "In this notebook, Data science tools and Ecosystem are summarized"
   ]
  },
  {
   "cell_type": "markdown",
   "id": "e6cb87ea-0837-4aee-9d10-fcecaf7e7722",
   "metadata": {},
   "source": [
    "# Objectives\n",
    "* List popular languages for data science\n",
    "* Development environment in Data science\n",
    "* Data Science languages\n",
    "* Application Programming Interfaces (APIs)\n",
    "* Libraries for Data science"
   ]
  },
  {
   "cell_type": "markdown",
   "id": "5848854b-1f52-46c1-b400-9fabbaadc425",
   "metadata": {},
   "source": [
    "Some of the popular languages that Data scientists use are:\n",
    "1. Python\n",
    "2. Julia\n",
    "3. R\n",
    "4. C/C++"
   ]
  },
  {
   "cell_type": "markdown",
   "id": "546e1a48-1a9e-4443-907a-54122a7dc2df",
   "metadata": {},
   "source": [
    "Some of the commonly used libraries by Data scientists include:\n",
    "1. Pandas\n",
    "2. NumPy\n",
    "3. MatPlotLib\n",
    "4. PyTorch\n",
    "5. TensorFlow"
   ]
  },
  {
   "cell_type": "markdown",
   "id": "03c14c7d-7c92-4bfe-ac83-b45748ad74a3",
   "metadata": {},
   "source": [
    "|Data Science Tools|\n",
    "|------------------|\n",
    "|MySQL|\n",
    "|KNIME|\n",
    "|Apache kafka|\n",
    "|NodeRED|\n",
    "|Pixie Dust|\n",
    " "
   ]
  },
  {
   "cell_type": "markdown",
   "id": "2888008e-15ae-4282-8c08-3d7acf5b01e1",
   "metadata": {},
   "source": [
    "### Below are a few examples of evaluating arithmetic expresions in Python"
   ]
  },
  {
   "cell_type": "code",
   "execution_count": 1,
   "id": "9384880d-7671-4edf-b6f6-8230abe5aef3",
   "metadata": {},
   "outputs": [
    {
     "data": {
      "text/plain": [
       "17"
      ]
     },
     "execution_count": 1,
     "metadata": {},
     "output_type": "execute_result"
    }
   ],
   "source": [
    "#This is a simple arithmetic expression to multiply then add integers\n",
    "(3*4)+5"
   ]
  },
  {
   "cell_type": "code",
   "execution_count": 2,
   "id": "c5d9bb5f-9293-46c9-a91e-986a337209ef",
   "metadata": {},
   "outputs": [
    {
     "data": {
      "text/plain": [
       "3.3333333333333335"
      ]
     },
     "execution_count": 2,
     "metadata": {},
     "output_type": "execute_result"
    }
   ],
   "source": [
    "#This will convert 200 minutes to hours by dividing by 60\n",
    "200/60"
   ]
  },
  {
   "cell_type": "markdown",
   "id": "fe729d5f-599b-4434-9213-92c47d39917e",
   "metadata": {},
   "source": [
    "## Author(s)\n",
    "Loveth Agbo"
   ]
  },
  {
   "cell_type": "code",
   "execution_count": null,
   "id": "cebb216d-aa20-45a6-8a81-b84568ffaa1b",
   "metadata": {},
   "outputs": [],
   "source": []
  }
 ],
 "metadata": {
  "kernelspec": {
   "display_name": "Python 3 (ipykernel)",
   "language": "python",
   "name": "python3"
  },
  "language_info": {
   "codemirror_mode": {
    "name": "ipython",
    "version": 3
   },
   "file_extension": ".py",
   "mimetype": "text/x-python",
   "name": "python",
   "nbconvert_exporter": "python",
   "pygments_lexer": "ipython3",
   "version": "3.11.7"
  }
 },
 "nbformat": 4,
 "nbformat_minor": 5
}
